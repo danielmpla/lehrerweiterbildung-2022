{
 "cells": [
  {
   "cell_type": "markdown",
   "metadata": {
    "slideshow": {
     "slide_type": "slide"
    }
   },
   "source": [
    "# 3. Funktionen"
   ]
  },
  {
   "cell_type": "markdown",
   "metadata": {
    "slideshow": {
     "slide_type": "slide"
    }
   },
   "source": [
    "## Inhalt\n",
    "\n",
    "- Aufbau einer Funktion\n",
    "- Rekursion\n",
    "- Imports"
   ]
  },
  {
   "cell_type": "markdown",
   "metadata": {
    "slideshow": {
     "slide_type": "slide"
    }
   },
   "source": [
    "## Aufbau einer Funktion\n",
    "\n",
    "- Das Schlüsselwort zum definieren einer Funktion ist `def`\n",
    "- Es können beliebig viele Parameter definiert werden\n",
    "    - die Parameter können auch Default-Werte enthalten, diese müssen dann beim Methodenaufruf nicht mit angegeben werden (Überladung von Funktionen)\n",
    "        - am Anfang müssen alle Parameter stehen, die keine Default-Werte besitzen\n",
    "- Die Rückgabe der Funktion ist untypisiert\n",
    "    - es kann sogar mehrere Rückgabewerte geben (sollte aber vermieden werden)"
   ]
  },
  {
   "cell_type": "code",
   "execution_count": 1,
   "metadata": {
    "pycharm": {
     "is_executing": false
    },
    "slideshow": {
     "slide_type": "subslide"
    }
   },
   "outputs": [],
   "source": [
    "def hello_world():\n",
    "    print(\"Hello World!\")"
   ]
  },
  {
   "cell_type": "code",
   "execution_count": 2,
   "metadata": {
    "pycharm": {
     "is_executing": false
    }
   },
   "outputs": [
    {
     "name": "stdout",
     "output_type": "stream",
     "text": [
      "Hello World!\n"
     ]
    }
   ],
   "source": [
    "hello_world()"
   ]
  },
  {
   "cell_type": "code",
   "execution_count": 3,
   "metadata": {
    "pycharm": {
     "is_executing": false
    },
    "slideshow": {
     "slide_type": "subslide"
    }
   },
   "outputs": [],
   "source": [
    "def hello_name(name):\n",
    "    print(\"Hello \" + name + \"!\")"
   ]
  },
  {
   "cell_type": "code",
   "execution_count": 4,
   "metadata": {
    "pycharm": {
     "is_executing": false
    }
   },
   "outputs": [
    {
     "name": "stdout",
     "output_type": "stream",
     "text": [
      "Hello Max!\n"
     ]
    }
   ],
   "source": [
    "hello_name(\"Max\")"
   ]
  },
  {
   "cell_type": "code",
   "execution_count": 5,
   "metadata": {},
   "outputs": [],
   "source": [
    "def hello_name(name='World'):\n",
    "    print(\"Hello \" + name + \"!\")"
   ]
  },
  {
   "cell_type": "code",
   "execution_count": 6,
   "metadata": {},
   "outputs": [
    {
     "name": "stdout",
     "output_type": "stream",
     "text": [
      "Hello World!\n"
     ]
    }
   ],
   "source": [
    "hello_name()"
   ]
  },
  {
   "cell_type": "code",
   "execution_count": 7,
   "metadata": {},
   "outputs": [
    {
     "name": "stdout",
     "output_type": "stream",
     "text": [
      "Hello Max!\n"
     ]
    }
   ],
   "source": [
    "hello_name(\"Max\")"
   ]
  },
  {
   "cell_type": "code",
   "execution_count": 8,
   "metadata": {
    "pycharm": {
     "is_executing": false
    },
    "slideshow": {
     "slide_type": "subslide"
    }
   },
   "outputs": [],
   "source": [
    "def maximum(number_1, number_2):\n",
    "    if number_1 > number_2:\n",
    "        return number_1\n",
    "    else:\n",
    "        return number_2"
   ]
  },
  {
   "cell_type": "code",
   "execution_count": 9,
   "metadata": {
    "pycharm": {
     "is_executing": false
    }
   },
   "outputs": [
    {
     "data": {
      "text/plain": [
       "3"
      ]
     },
     "execution_count": 9,
     "metadata": {},
     "output_type": "execute_result"
    }
   ],
   "source": [
    "maximum(2, 3)"
   ]
  },
  {
   "cell_type": "code",
   "execution_count": 10,
   "metadata": {
    "slideshow": {
     "slide_type": "subslide"
    }
   },
   "outputs": [
    {
     "name": "stdout",
     "output_type": "stream",
     "text": [
      "1\n",
      "2\n",
      "(1, 2)\n"
     ]
    }
   ],
   "source": [
    "def two():\n",
    "    return 1, 2\n",
    "\n",
    "a, b = two()\n",
    "c = two()\n",
    "\n",
    "print(a)\n",
    "print(b)\n",
    "print(c)"
   ]
  },
  {
   "cell_type": "markdown",
   "metadata": {
    "slideshow": {
     "slide_type": "slide"
    }
   },
   "source": [
    "## Rekursion\n",
    "\n",
    "- Funktionen, die im Funktionsrumpf sich selbst aufrufen\n",
    "\n",
    "Wie wird die Fakultät berechnet?\n",
    "\n",
    "3! = 3 \\* 2 \\* 1\n",
    "\n",
    "5! = 5 \\* 4 \\* 3 \\* 2 \\* 1"
   ]
  },
  {
   "cell_type": "code",
   "execution_count": 11,
   "metadata": {},
   "outputs": [],
   "source": [
    "def fak(n):\n",
    "    if n == 0:\n",
    "        return 1\n",
    "    else:\n",
    "        return n * fak(n - 1)"
   ]
  },
  {
   "cell_type": "code",
   "execution_count": 12,
   "metadata": {},
   "outputs": [
    {
     "data": {
      "text/plain": [
       "120"
      ]
     },
     "execution_count": 12,
     "metadata": {},
     "output_type": "execute_result"
    }
   ],
   "source": [
    "fak(5)"
   ]
  },
  {
   "cell_type": "markdown",
   "metadata": {
    "slideshow": {
     "slide_type": "slide"
    }
   },
   "source": [
    "## Imports"
   ]
  },
  {
   "cell_type": "markdown",
   "metadata": {},
   "source": [
    "- Wie bereits in der Einführung erwähnt, können weitere Funktionalitäten importiert werden\n",
    "- Ein Modul wird mit dem Schlüsselwort `import` importiert\n",
    "- Soll nur ein Teil des Moduls importiert werden, verwendet man `from <Modul> import <Funktion/Klasse/Konstante/Modul>`\n",
    "    - das Modul kann auch weitere Module enthalten, dann schreibt man: `from <Modul>.<Modul/Klasse>.<usw.> import <Funktion/Klasse/Konstante/Modul>`\n",
    "- Mit `as` kann der Name des Importierten überschrieben werden\n",
    "    - bei vielen Paketen gibt es ein \"ungeschriebenes Gesetz, wie die Namen überschrieben werden\", nach Möglichkeit sollten die Pakete immer genauso importiert werden\n",
    "    - z.B.: tensorflow -> tf, numpy -> np"
   ]
  },
  {
   "cell_type": "code",
   "execution_count": 13,
   "metadata": {
    "slideshow": {
     "slide_type": "subslide"
    }
   },
   "outputs": [],
   "source": [
    "import datetime as dt"
   ]
  },
  {
   "cell_type": "code",
   "execution_count": 14,
   "metadata": {},
   "outputs": [
    {
     "name": "stdout",
     "output_type": "stream",
     "text": [
      "2021-09-21 12:27:59.141996\n"
     ]
    }
   ],
   "source": [
    "today = dt.datetime.now()\n",
    "print(today)"
   ]
  },
  {
   "cell_type": "code",
   "execution_count": 15,
   "metadata": {},
   "outputs": [],
   "source": [
    "from datetime import datetime"
   ]
  },
  {
   "cell_type": "code",
   "execution_count": 16,
   "metadata": {},
   "outputs": [
    {
     "name": "stdout",
     "output_type": "stream",
     "text": [
      "2021-09-21 12:27:59.168412\n"
     ]
    }
   ],
   "source": [
    "today = datetime.now()\n",
    "print(today)"
   ]
  },
  {
   "cell_type": "code",
   "execution_count": 17,
   "metadata": {},
   "outputs": [],
   "source": [
    "import math"
   ]
  },
  {
   "cell_type": "code",
   "execution_count": 18,
   "metadata": {},
   "outputs": [
    {
     "data": {
      "text/plain": [
       "1"
      ]
     },
     "execution_count": 18,
     "metadata": {},
     "output_type": "execute_result"
    }
   ],
   "source": [
    "math.gcd(11, 15)"
   ]
  },
  {
   "cell_type": "markdown",
   "metadata": {
    "slideshow": {
     "slide_type": "skip"
    }
   },
   "source": [
    "## Übungsaufgaben\n",
    "\n",
    "- Eine Aufgabe besteht immer aus mindestens einer Eingabe-Zelle\n",
    "- In dieser Zelle wird bereits Code stehen\n",
    "- Diesen sollten Sie nicht ändern, da Sie sonst möglicherweiße die Aufgabe vereinfachen\n",
    "    - Möchten Sie alternative Lösungen testen oder andere Eingabewerte verwenden können Sie weitere Zellen einfügen\n",
    "    - Achten Sie dabei aber darauf, dass Variablen innerhalb eines Notebooks global sind und dadurch von Ihnen eventuell überschrieben werden\n",
    "    - **Falls es bei der Ausführung zu Problemen kommt, bzw. Sie eine andere Ausgabe erwarten, sollten Sie alle dazugehörigen Zellen neu ausführen**\n",
    "- Falls unter einer Aufgaben-Zelle eine weitere Zelle mit `assert`-Statements ist, dient diese lediglich der Verfizierung Ihres Codes\n",
    "    - An dieser Zelle müssen Sie nichts ändern\n",
    "    - Wenn Sie diese Zelle ausführen und keine Ausgabe kommt ist alles i.O.\n",
    "    - Bei einer Ausgabe sehen Sie was falsch ist"
   ]
  },
  {
   "cell_type": "markdown",
   "metadata": {
    "slideshow": {
     "slide_type": "skip"
    }
   },
   "source": [
    "## Aufgabe 1\n",
    "\n",
    "Geben Sie alle durch 13 teilbaren Zahlen im Intervall von -1000 bis +1000 aus!\n",
    "*Hinweis*: Hier hilft die Modulo-Operation"
   ]
  },
  {
   "cell_type": "code",
   "execution_count": 19,
   "metadata": {
    "slideshow": {
     "slide_type": "skip"
    }
   },
   "outputs": [
    {
     "name": "stdout",
     "output_type": "stream",
     "text": [
      "-988\n",
      "-975\n",
      "-962\n",
      "-949\n",
      "-936\n",
      "-923\n",
      "-910\n",
      "-897\n",
      "-884\n",
      "-871\n",
      "-858\n",
      "-845\n",
      "-832\n",
      "-819\n",
      "-806\n",
      "-793\n",
      "-780\n",
      "-767\n",
      "-754\n",
      "-741\n",
      "-728\n",
      "-715\n",
      "-702\n",
      "-689\n",
      "-676\n",
      "-663\n",
      "-650\n",
      "-637\n",
      "-624\n",
      "-611\n",
      "-598\n",
      "-585\n",
      "-572\n",
      "-559\n",
      "-546\n",
      "-533\n",
      "-520\n",
      "-507\n",
      "-494\n",
      "-481\n",
      "-468\n",
      "-455\n",
      "-442\n",
      "-429\n",
      "-416\n",
      "-403\n",
      "-390\n",
      "-377\n",
      "-364\n",
      "-351\n",
      "-338\n",
      "-325\n",
      "-312\n",
      "-299\n",
      "-286\n",
      "-273\n",
      "-260\n",
      "-247\n",
      "-234\n",
      "-221\n",
      "-208\n",
      "-195\n",
      "-182\n",
      "-169\n",
      "-156\n",
      "-143\n",
      "-130\n",
      "-117\n",
      "-104\n",
      "-91\n",
      "-78\n",
      "-65\n",
      "-52\n",
      "-39\n",
      "-26\n",
      "-13\n",
      "0\n",
      "13\n",
      "26\n",
      "39\n",
      "52\n",
      "65\n",
      "78\n",
      "91\n",
      "104\n",
      "117\n",
      "130\n",
      "143\n",
      "156\n",
      "169\n",
      "182\n",
      "195\n",
      "208\n",
      "221\n",
      "234\n",
      "247\n",
      "260\n",
      "273\n",
      "286\n",
      "299\n",
      "312\n",
      "325\n",
      "338\n",
      "351\n",
      "364\n",
      "377\n",
      "390\n",
      "403\n",
      "416\n",
      "429\n",
      "442\n",
      "455\n",
      "468\n",
      "481\n",
      "494\n",
      "507\n",
      "520\n",
      "533\n",
      "546\n",
      "559\n",
      "572\n",
      "585\n",
      "598\n",
      "611\n",
      "624\n",
      "637\n",
      "650\n",
      "663\n",
      "676\n",
      "689\n",
      "702\n",
      "715\n",
      "728\n",
      "741\n",
      "754\n",
      "767\n",
      "780\n",
      "793\n",
      "806\n",
      "819\n",
      "832\n",
      "845\n",
      "858\n",
      "871\n",
      "884\n",
      "897\n",
      "910\n",
      "923\n",
      "936\n",
      "949\n",
      "962\n",
      "975\n",
      "988\n"
     ]
    }
   ],
   "source": [
    "for i in range(-1000, 1001):\n",
    "    if i % 13 == 0:\n",
    "        print(i)"
   ]
  },
  {
   "cell_type": "markdown",
   "metadata": {
    "slideshow": {
     "slide_type": "skip"
    }
   },
   "source": [
    "## Aufgabe 2\n",
    "\n",
    "Erstellen Sie eine Funktion, das zu einem Anfangskapital die Anzahl der Jahre berechnet, bis\n",
    "eine Zielsumme erreicht ist. Der Zinssatz beträgt im ersten Jahr 1% und steigt jährlich um 10%\n",
    "(1. Jahr: 1%, 2. Jahr: 1,1%, 3. Jahr: 1,21% usw.) Der Höchstzinssatz wird auf 5% beschränkt. \n",
    "Testen Sie Ihre Funktion mit den Parametern Anfangskapital = 1000 € und einer Zielsumme =\n",
    "1600 €!"
   ]
  },
  {
   "cell_type": "code",
   "execution_count": 20,
   "metadata": {
    "slideshow": {
     "slide_type": "skip"
    }
   },
   "outputs": [],
   "source": [
    "def kapital(anfang, ziel):\n",
    "    if anfang > ziel:\n",
    "        return 0\n",
    "    \n",
    "    n = anfang\n",
    "    zins = 1\n",
    "    a = 0\n",
    "    \n",
    "    while n < ziel:\n",
    "        n = n * ((zins / 100) + 1)\n",
    "        a = a + 1\n",
    "        zins = zins * 1.1\n",
    "        if zins > 5:\n",
    "            zins = 5\n",
    "    return a"
   ]
  },
  {
   "cell_type": "code",
   "execution_count": 21,
   "metadata": {
    "slideshow": {
     "slide_type": "skip"
    }
   },
   "outputs": [
    {
     "data": {
      "text/plain": [
       "19"
      ]
     },
     "execution_count": 21,
     "metadata": {},
     "output_type": "execute_result"
    }
   ],
   "source": [
    "kapital(1000,1600)"
   ]
  },
  {
   "cell_type": "markdown",
   "metadata": {
    "slideshow": {
     "slide_type": "skip"
    }
   },
   "source": [
    "## Aufgabe 3\n",
    "\n",
    "Schreiben Sie eine Funktion, das die minimale Anzahl von Münzen und Geldscheinen berechnet,\n",
    "mit denen ein einzugebender Geldbetrag zusammengestellt werden kann (nur ganze Euro-\n",
    "Beträge)!\n",
    "Beispiel: 27 EUR: 1\\*20 EUR + 1\\*5 EUR + 1\\*2 EUR"
   ]
  },
  {
   "cell_type": "code",
   "execution_count": 22,
   "metadata": {
    "slideshow": {
     "slide_type": "skip"
    }
   },
   "outputs": [],
   "source": [
    "def muenzen(betrag):\n",
    "    rest = 0\n",
    "    anzahl = 0\n",
    "\n",
    "    if betrag >= 500:\n",
    "        anzahl = betrag // 500\n",
    "        rest = betrag % 500\n",
    "    \n",
    "        if rest != 0:\n",
    "            return str(anzahl) + ' * 500 EUR + ' + str(muenzen(rest))\n",
    "        else:\n",
    "            return str(anzahl) + ' * 500 EUR'\n",
    "        \n",
    "    elif betrag >= 200:\n",
    "        anzahl = betrag // 200\n",
    "        rest = betrag % 200\n",
    "        if rest != 0:\n",
    "            return str(anzahl) + ' * 200 EUR + ' + str(muenzen(rest))\n",
    "        else:\n",
    "            return str(anzahl) + ' * 200 EUR'\n",
    "        \n",
    "    elif betrag >= 100:\n",
    "        anzahl = betrag // 100\n",
    "        rest = betrag % 100\n",
    "        if rest != 0:\n",
    "            return str(anzahl) + ' * 100 EUR + ' + str(muenzen(rest))\n",
    "        else:\n",
    "            return str(anzahl) + ' * 100 EUR'\n",
    "\n",
    "    elif betrag >= 50:\n",
    "        anzahl = betrag // 50\n",
    "        rest = betrag % 50\n",
    "        if rest != 0:\n",
    "            return str(anzahl) + ' * 50 EUR + ' + str(muenzen(rest))\n",
    "        else:\n",
    "            return str(anzahl) + ' * 50 EUR'\n",
    "\n",
    "    elif betrag >= 20:\n",
    "        anzahl = betrag // 20\n",
    "        rest = betrag % 20\n",
    "        if rest != 0:\n",
    "            return str(anzahl) + ' * 20 EUR + ' + str(muenzen(rest))\n",
    "        else:\n",
    "            return str(anzahl) + ' * 20 EUR'\n",
    "\n",
    "    elif betrag >= 10:\n",
    "        anzahl = betrag // 10\n",
    "        rest = betrag % 10\n",
    "        if rest != 0:\n",
    "            return str(anzahl) + ' * 10 EUR + ' + str(muenzen(rest))\n",
    "        else:\n",
    "            return str(anzahl) + ' * 10 EUR'\n",
    "\n",
    "    elif betrag >= 5:\n",
    "        anzahl = betrag // 5\n",
    "        rest = betrag % 5\n",
    "        if rest != 0:\n",
    "            return str(anzahl) + ' * 5 EUR + ' + str(muenzen(rest))\n",
    "        else:\n",
    "            return str(anzahl) + ' * 5 EUR'\n",
    "\n",
    "    elif betrag >= 2:\n",
    "        anzahl = betrag // 2\n",
    "        rest = betrag % 2\n",
    "        if rest != 0:\n",
    "            return str(anzahl) + ' * 2 EUR + ' + str(muenzen(rest))\n",
    "        else:\n",
    "            return str(anzahl) + ' * 2 EUR'\n",
    "\n",
    "    elif betrag >= 1:\n",
    "        anzahl = betrag // 1\n",
    "        rest = betrag % 1\n",
    "        if rest != 0:\n",
    "            return str(anzahl) + ' * 1 EUR + ' + str(muenzen(rest))\n",
    "        else:\n",
    "            return str(anzahl) + ' * 1 EUR'"
   ]
  },
  {
   "cell_type": "code",
   "execution_count": 23,
   "metadata": {
    "slideshow": {
     "slide_type": "skip"
    }
   },
   "outputs": [
    {
     "data": {
      "text/plain": [
       "'1 * 20 EUR + 1 * 5 EUR + 1 * 2 EUR'"
      ]
     },
     "execution_count": 23,
     "metadata": {},
     "output_type": "execute_result"
    }
   ],
   "source": [
    "muenzen(27)"
   ]
  },
  {
   "cell_type": "markdown",
   "metadata": {
    "slideshow": {
     "slide_type": "skip"
    }
   },
   "source": [
    "## Aufgabe 4\n",
    "\n",
    "Schreiben Sie eine rekursive Funktion zur Berechnung der n-ten Fibonacci Zahl."
   ]
  },
  {
   "cell_type": "code",
   "execution_count": 24,
   "metadata": {
    "slideshow": {
     "slide_type": "skip"
    }
   },
   "outputs": [],
   "source": [
    "def fib(n):\n",
    "    if n == 1:\n",
    "        return 1\n",
    "    elif n == 2:\n",
    "        return 1\n",
    "    else:\n",
    "        return fib(n - 1) + fib(n - 2)"
   ]
  },
  {
   "cell_type": "code",
   "execution_count": 25,
   "metadata": {
    "slideshow": {
     "slide_type": "skip"
    }
   },
   "outputs": [
    {
     "data": {
      "text/plain": [
       "13"
      ]
     },
     "execution_count": 25,
     "metadata": {},
     "output_type": "execute_result"
    }
   ],
   "source": [
    "fib(7)"
   ]
  },
  {
   "cell_type": "markdown",
   "metadata": {
    "slideshow": {
     "slide_type": "skip"
    }
   },
   "source": [
    "## Bonus: Aufgabe 5\n",
    "\n",
    "Schreiben Sie eine Funktion zur Berechnung des Rückgeldes in Scheinen und Münzen. _Hinweis:_ Hier können Sie ihre Funktion aus Ausgabe 3 nutzen."
   ]
  },
  {
   "cell_type": "code",
   "execution_count": 26,
   "metadata": {
    "slideshow": {
     "slide_type": "skip"
    }
   },
   "outputs": [],
   "source": [
    "def rueckgeld(betrag, gegeben):\n",
    "    differenz = gegeben - betrag\n",
    "    print(muenzen(differenz))"
   ]
  },
  {
   "cell_type": "code",
   "execution_count": 27,
   "metadata": {
    "slideshow": {
     "slide_type": "skip"
    }
   },
   "outputs": [
    {
     "name": "stdout",
     "output_type": "stream",
     "text": [
      "1 * 10 EUR\n"
     ]
    }
   ],
   "source": [
    "rueckgeld(25, 35)"
   ]
  }
 ],
 "metadata": {
  "kernelspec": {
   "display_name": "Python 3 (ipykernel)",
   "language": "python",
   "name": "python3"
  },
  "language_info": {
   "codemirror_mode": {
    "name": "ipython",
    "version": 3
   },
   "file_extension": ".py",
   "mimetype": "text/x-python",
   "name": "python",
   "nbconvert_exporter": "python",
   "pygments_lexer": "ipython3",
   "version": "3.9.6"
  },
  "pycharm": {
   "stem_cell": {
    "cell_type": "markdown",
    "metadata": {
     "collapsed": false
    },
    "source": []
   }
  }
 },
 "nbformat": 4,
 "nbformat_minor": 4
}
