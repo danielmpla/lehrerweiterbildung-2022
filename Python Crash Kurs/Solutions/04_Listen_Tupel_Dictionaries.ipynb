{
 "cells": [
  {
   "cell_type": "markdown",
   "metadata": {
    "slideshow": {
     "slide_type": "slide"
    }
   },
   "source": [
    "# 4. Listen und Tupel"
   ]
  },
  {
   "cell_type": "markdown",
   "metadata": {
    "slideshow": {
     "slide_type": "slide"
    }
   },
   "source": [
    "## Inhalt:\n",
    "\n",
    "- List Slicing\n",
    "- Listen-Abstraktion\n",
    "- Tupel"
   ]
  },
  {
   "cell_type": "markdown",
   "metadata": {
    "slideshow": {
     "slide_type": "slide"
    }
   },
   "source": [
    "- mit dem `+` Operator kann man 2 Listen konkatenieren"
   ]
  },
  {
   "cell_type": "code",
   "execution_count": 1,
   "metadata": {},
   "outputs": [
    {
     "name": "stdout",
     "output_type": "stream",
     "text": [
      "['Roy', 'Ronny', 'Ronja', 'Kevin', 'Eric']\n"
     ]
    }
   ],
   "source": [
    "students = [\"Roy\", \"Ronny\", \"Ronja\"] + [\"Kevin\", \"Eric\"]\n",
    "print(students)"
   ]
  },
  {
   "cell_type": "code",
   "execution_count": 2,
   "metadata": {},
   "outputs": [
    {
     "name": "stdout",
     "output_type": "stream",
     "text": [
      "[6, 5, 4, 3, 2, 1, 0, 0, 1, 2, 3, 4, 5, 6]\n"
     ]
    }
   ],
   "source": [
    "numbers = [i for i in range(6, -1, -1)] + [i for i in range(0, 7)]\n",
    "print(numbers)"
   ]
  },
  {
   "cell_type": "markdown",
   "metadata": {
    "slideshow": {
     "slide_type": "subslide"
    }
   },
   "source": [
    "- `remove` entfernt den ersten Wert, der gleich dem übergebenen Parameter ist. `del` entfernt den Wert mit dem angegebenen Index. `pop` Entfernt den Wert mit dem Angegebenen Index, und gibt ihn aus."
   ]
  },
  {
   "cell_type": "code",
   "execution_count": 3,
   "metadata": {},
   "outputs": [
    {
     "name": "stdout",
     "output_type": "stream",
     "text": [
      "[6, 5, 3, 2, 1, 0, 0, 1, 2, 3, 4, 5, 6]\n"
     ]
    }
   ],
   "source": [
    "numbers.remove(4)\n",
    "print(numbers)"
   ]
  },
  {
   "cell_type": "code",
   "execution_count": 4,
   "metadata": {},
   "outputs": [],
   "source": [
    "del numbers[4]"
   ]
  },
  {
   "cell_type": "code",
   "execution_count": 5,
   "metadata": {},
   "outputs": [
    {
     "name": "stdout",
     "output_type": "stream",
     "text": [
      "[6, 5, 3, 2, 0, 0, 1, 2, 3, 4, 5, 6]\n"
     ]
    }
   ],
   "source": [
    "print(numbers)"
   ]
  },
  {
   "cell_type": "code",
   "execution_count": 6,
   "metadata": {},
   "outputs": [
    {
     "data": {
      "text/plain": [
       "0"
      ]
     },
     "execution_count": 6,
     "metadata": {},
     "output_type": "execute_result"
    }
   ],
   "source": [
    "numbers.pop(4)"
   ]
  },
  {
   "cell_type": "code",
   "execution_count": 7,
   "metadata": {},
   "outputs": [
    {
     "name": "stdout",
     "output_type": "stream",
     "text": [
      "[6, 5, 3, 2, 0, 1, 2, 3, 4, 5, 6]\n"
     ]
    }
   ],
   "source": [
    "print(numbers)"
   ]
  },
  {
   "cell_type": "markdown",
   "metadata": {
    "slideshow": {
     "slide_type": "subslide"
    }
   },
   "source": [
    "- Wie wir bereits in der Einführung gesehen haben, können wir Teile der Liste mit der `[von:bis]` Notation adressieren\n",
    "- Genauso können wir aber auch auf einen String arbeiten"
   ]
  },
  {
   "cell_type": "code",
   "execution_count": 8,
   "metadata": {},
   "outputs": [
    {
     "name": "stdout",
     "output_type": "stream",
     "text": [
      "[3, 4, 5, 6, 7, 8, 9]\n",
      "[3, 4, 5, 6, 7, 8]\n",
      "[0, 1, 2, 3, 4]\n",
      "[3, 4]\n",
      "[3, 4, 5, 6]\n"
     ]
    }
   ],
   "source": [
    "numbers = [0, 1, 2, 3, 4, 5, 6, 7, 8, 9]\n",
    "\n",
    "print(numbers[3:])\n",
    "print(numbers[3:-1])\n",
    "print(numbers[:5])\n",
    "print(numbers[3:5])\n",
    "print(numbers[3:-3])"
   ]
  },
  {
   "cell_type": "code",
   "execution_count": 9,
   "metadata": {},
   "outputs": [
    {
     "name": "stdout",
     "output_type": "stream",
     "text": [
      "Hello\n",
      "World!\n"
     ]
    }
   ],
   "source": [
    "print(\"Hello World!\"[:-7])\n",
    "print(\"Hello World!\"[-6:])"
   ]
  },
  {
   "cell_type": "markdown",
   "metadata": {
    "slideshow": {
     "slide_type": "slide"
    }
   },
   "source": [
    "## Listen-Abstraktion"
   ]
  },
  {
   "cell_type": "code",
   "execution_count": 10,
   "metadata": {},
   "outputs": [
    {
     "name": "stdout",
     "output_type": "stream",
     "text": [
      "[1, 2, 3, 4, 5, 6, 7, 8, 9, 10]\n",
      "[1, 4, 9, 16, 25, 36, 49, 64, 81, 100]\n"
     ]
    }
   ],
   "source": [
    "x = [i + 1 for i in range(10)]\n",
    "y = [x * x for x in x]\n",
    "\n",
    "print(x)\n",
    "print(y)"
   ]
  },
  {
   "cell_type": "code",
   "execution_count": 11,
   "metadata": {},
   "outputs": [
    {
     "name": "stdout",
     "output_type": "stream",
     "text": [
      "[3, 5, 5, 5, 4]\n"
     ]
    }
   ],
   "source": [
    "students = ['Roy', 'Ronny', 'Ronja', 'Kevin', 'Eric']\n",
    "lengths = [len(student) for student in students]\n",
    "\n",
    "print(lengths)"
   ]
  },
  {
   "cell_type": "code",
   "execution_count": 12,
   "metadata": {
    "slideshow": {
     "slide_type": "subslide"
    }
   },
   "outputs": [],
   "source": [
    "xs = [x / 10 for x in range(100)]\n",
    "ys = [x * x for x in xs]"
   ]
  },
  {
   "cell_type": "code",
   "execution_count": 13,
   "metadata": {},
   "outputs": [],
   "source": [
    "%matplotlib inline\n",
    "import matplotlib.pyplot as plt"
   ]
  },
  {
   "cell_type": "code",
   "execution_count": 14,
   "metadata": {},
   "outputs": [
    {
     "data": {
      "image/png": "[encoded data removed]",
      "text/plain": [
       "<Figure size 432x288 with 1 Axes>"
      ]
     },
     "metadata": {
      "needs_background": "light"
     },
     "output_type": "display_data"
    }
   ],
   "source": [
    "plt.plot(xs, ys)\n",
    "plt.show()"
   ]
  },
  {
   "cell_type": "markdown",
   "metadata": {
    "slideshow": {
     "slide_type": "slide"
    }
   },
   "source": [
    "## Tupel\n",
    "\n",
    "- Liste ist mutable (änderbar)\n",
    "- Tupel sind immutable"
   ]
  },
  {
   "cell_type": "code",
   "execution_count": 15,
   "metadata": {},
   "outputs": [
    {
     "name": "stdout",
     "output_type": "stream",
     "text": [
      "(0, 1, 2, 3, 4, 5, 6, 7, 8, 9)\n",
      "[0, 1, 2, 3, 4, 5, 6, 7, 8, 9]\n"
     ]
    }
   ],
   "source": [
    "num_tup = tuple(i for i in range(10))\n",
    "num_list = [i for i in range(10)]\n",
    "\n",
    "print(num_tup)\n",
    "print(num_list)"
   ]
  },
  {
   "cell_type": "code",
   "execution_count": 16,
   "metadata": {
    "slideshow": {
     "slide_type": "subslide"
    }
   },
   "outputs": [
    {
     "name": "stdout",
     "output_type": "stream",
     "text": [
      "[0, 1, 2, 3, 42, 5, 6, 7, 8, 9]\n"
     ]
    }
   ],
   "source": [
    "num_list[4] = 42\n",
    "print(num_list)"
   ]
  },
  {
   "cell_type": "code",
   "execution_count": 17,
   "metadata": {},
   "outputs": [
    {
     "ename": "TypeError",
     "evalue": "'tuple' object does not support item assignment",
     "output_type": "error",
     "traceback": [
      "\u001b[0;31m---------------------------------------------------------------------------\u001b[0m",
      "\u001b[0;31mTypeError\u001b[0m                                 Traceback (most recent call last)",
      "\u001b[0;32m<ipython-input-17-9c3db01a3bc9>\u001b[0m in \u001b[0;36m<module>\u001b[0;34m\u001b[0m\n\u001b[0;32m----> 1\u001b[0;31m \u001b[0mnum_tup\u001b[0m\u001b[0;34m[\u001b[0m\u001b[0;36m4\u001b[0m\u001b[0;34m]\u001b[0m \u001b[0;34m=\u001b[0m \u001b[0;36m42\u001b[0m\u001b[0;34m\u001b[0m\u001b[0;34m\u001b[0m\u001b[0m\n\u001b[0m",
      "\u001b[0;31mTypeError\u001b[0m: 'tuple' object does not support item assignment"
     ]
    }
   ],
   "source": [
    "num_tup[4] = 42"
   ]
  },
  {
   "cell_type": "code",
   "execution_count": 18,
   "metadata": {},
   "outputs": [
    {
     "ename": "TypeError",
     "evalue": "'tuple' object doesn't support item deletion",
     "output_type": "error",
     "traceback": [
      "\u001b[0;31m---------------------------------------------------------------------------\u001b[0m",
      "\u001b[0;31mTypeError\u001b[0m                                 Traceback (most recent call last)",
      "\u001b[0;32m<ipython-input-18-8160b5f83183>\u001b[0m in \u001b[0;36m<module>\u001b[0;34m\u001b[0m\n\u001b[0;32m----> 1\u001b[0;31m \u001b[0;32mdel\u001b[0m \u001b[0mnum_tup\u001b[0m\u001b[0;34m[\u001b[0m\u001b[0;36m4\u001b[0m\u001b[0;34m]\u001b[0m\u001b[0;34m\u001b[0m\u001b[0;34m\u001b[0m\u001b[0m\n\u001b[0m",
      "\u001b[0;31mTypeError\u001b[0m: 'tuple' object doesn't support item deletion"
     ]
    }
   ],
   "source": [
    "del num_tup[4]"
   ]
  },
  {
   "cell_type": "code",
   "execution_count": 19,
   "metadata": {},
   "outputs": [
    {
     "ename": "AttributeError",
     "evalue": "'tuple' object has no attribute 'append'",
     "output_type": "error",
     "traceback": [
      "\u001b[0;31m---------------------------------------------------------------------------\u001b[0m",
      "\u001b[0;31mAttributeError\u001b[0m                            Traceback (most recent call last)",
      "\u001b[0;32m<ipython-input-19-71cc999bfa15>\u001b[0m in \u001b[0;36m<module>\u001b[0;34m\u001b[0m\n\u001b[0;32m----> 1\u001b[0;31m \u001b[0mnum_tup\u001b[0m\u001b[0;34m.\u001b[0m\u001b[0mappend\u001b[0m\u001b[0;34m(\u001b[0m\u001b[0;36m10\u001b[0m\u001b[0;34m)\u001b[0m\u001b[0;34m\u001b[0m\u001b[0;34m\u001b[0m\u001b[0m\n\u001b[0m",
      "\u001b[0;31mAttributeError\u001b[0m: 'tuple' object has no attribute 'append'"
     ]
    }
   ],
   "source": [
    "num_tup.append(10)"
   ]
  },
  {
   "cell_type": "markdown",
   "metadata": {
    "slideshow": {
     "slide_type": "subslide"
    }
   },
   "source": [
    "- Auch wenn man die Inhalte eines Tupels nicht ändern kann, so kann man es doch überschreiben"
   ]
  },
  {
   "cell_type": "code",
   "execution_count": 20,
   "metadata": {},
   "outputs": [
    {
     "name": "stdout",
     "output_type": "stream",
     "text": [
      "140462931131840\n",
      "140462932030528\n"
     ]
    }
   ],
   "source": [
    "print(id(num_tup))\n",
    "num_tup = tuple(i for i in range(9, -1, -1))\n",
    "print(id(num_tup))"
   ]
  },
  {
   "cell_type": "code",
   "execution_count": 21,
   "metadata": {},
   "outputs": [
    {
     "name": "stdout",
     "output_type": "stream",
     "text": [
      "(9, 8, 7, 6, 5, 4, 3, 2, 1, 0)\n"
     ]
    }
   ],
   "source": [
    "print(num_tup)"
   ]
  },
  {
   "cell_type": "markdown",
   "metadata": {
    "slideshow": {
     "slide_type": "subslide"
    }
   },
   "source": [
    "![](https://d6x8u9i2.rocketcdn.me/blog/wp-content/uploads/2018/04/tuple-modification-2.png)\n",
    "\n",
    "Quelle: https://www.afternerd.com/blog/difference-between-list-tuple/"
   ]
  },
  {
   "cell_type": "code",
   "execution_count": 22,
   "metadata": {
    "slideshow": {
     "slide_type": "subslide"
    }
   },
   "outputs": [
    {
     "name": "stdout",
     "output_type": "stream",
     "text": [
      "Roy\n",
      "19\n",
      "Informatik\n"
     ]
    }
   ],
   "source": [
    "student = (\"Roy\", 19, \"Informatik\")\n",
    "name, age, subject = student\n",
    "\n",
    "print(name)\n",
    "print(age)\n",
    "print(subject)"
   ]
  },
  {
   "cell_type": "code",
   "execution_count": 23,
   "metadata": {},
   "outputs": [],
   "source": [
    "name = \"Ronny\""
   ]
  },
  {
   "cell_type": "code",
   "execution_count": 24,
   "metadata": {},
   "outputs": [
    {
     "name": "stdout",
     "output_type": "stream",
     "text": [
      "('Roy', 19, 'Informatik')\n"
     ]
    }
   ],
   "source": [
    "print(student)"
   ]
  },
  {
   "cell_type": "markdown",
   "metadata": {
    "slideshow": {
     "slide_type": "skip"
    }
   },
   "source": [
    "## Übungsaufgaben\n",
    "\n",
    "- Eine Aufgabe besteht immer aus mindestens einer Eingabe-Zelle\n",
    "- In dieser Zelle wird bereits Code stehen\n",
    "- Diesen sollten Sie nicht ändern, da Sie sonst möglicherweiße die Aufgabe vereinfachen\n",
    "    - Möchten Sie alternative Lösungen testen oder andere Eingabewerte verwenden können Sie weitere Zellen einfügen\n",
    "    - Achten Sie dabei aber darauf, dass Variablen innerhalb eines Notebooks global sind und dadurch von Ihnen eventuell überschrieben werden\n",
    "    - **Falls es bei der Ausführung zu Problemen kommt, bzw. Sie eine andere Ausgabe erwarten, sollten Sie alle dazugehörigen Zellen neu ausführen**\n",
    "- Falls unter einer Aufgaben-Zelle eine weitere Zelle mit `assert`-Statements ist, dient diese lediglich der Verfizierung Ihres Codes\n",
    "    - An dieser Zelle müssen Sie nichts ändern\n",
    "    - Wenn Sie diese Zelle ausführen und keine Ausgabe kommt ist alles i.O.\n",
    "    - Bei einer Ausgabe sehen Sie was falsch ist"
   ]
  },
  {
   "cell_type": "markdown",
   "metadata": {
    "slideshow": {
     "slide_type": "skip"
    }
   },
   "source": [
    "## Aufgabe 1:\n",
    "\n",
    "Schreiben Sie eine Funktion, die eine Zeichenkette einliest und diese rückwärts wieder ausgibt.\n",
    "*Hinweis*: Verwenden Sie den String wie eine Liste!"
   ]
  },
  {
   "cell_type": "code",
   "execution_count": 25,
   "metadata": {
    "slideshow": {
     "slide_type": "skip"
    }
   },
   "outputs": [
    {
     "name": "stdout",
     "output_type": "stream",
     "text": [
      "!dlroW olleH\n"
     ]
    }
   ],
   "source": [
    "def ruekwaerts(s):\n",
    "    st = ''\n",
    "    for i in range(len(s) - 1, -1, -1):\n",
    "        st = st + s[i]\n",
    "        \n",
    "    print(st)\n",
    "    \n",
    "ruekwaerts('Hello World!')"
   ]
  },
  {
   "cell_type": "markdown",
   "metadata": {
    "slideshow": {
     "slide_type": "skip"
    }
   },
   "source": [
    "## Aufgabe 2:\n",
    "\n",
    "Schreiben Sie eine Funktion zur Berechnung der Quersumme einer ganzen Zahl!"
   ]
  },
  {
   "cell_type": "code",
   "execution_count": 26,
   "metadata": {
    "slideshow": {
     "slide_type": "skip"
    }
   },
   "outputs": [
    {
     "name": "stdout",
     "output_type": "stream",
     "text": [
      "11\n"
     ]
    }
   ],
   "source": [
    "zahl = 254\n",
    "quersumme = 0\n",
    "\n",
    "for x in str(zahl):\n",
    "    quersumme = quersumme + int(x)\n",
    "\n",
    "print(quersumme)"
   ]
  },
  {
   "cell_type": "markdown",
   "metadata": {
    "slideshow": {
     "slide_type": "skip"
    }
   },
   "source": [
    "## Aufgabe 3:\n",
    "\n",
    "Sortieren Sie eine mit Zufallszahlen zwischen 1 und 100 belegte Liste (mindestens 50 Elemente)\n",
    "nach dem Bubble – Sort – Verfahren! Geben Sie die Liste vor und nach der Sortierung\n",
    "aus! Hinweis: In einem Zyklus werden zwei benachbarte Elemente vertauscht, wenn sie in\n",
    "falscher Reihenfolge sind. Dieser Zyklus wird solange wiederholt, bis keine Vertauschung mehr\n",
    "erforderlich ist.\n",
    "\n",
    "Hier ist eine visuelle Erklärung zu Bubblesort:"
   ]
  },
  {
   "cell_type": "code",
   "execution_count": 27,
   "metadata": {
    "slideshow": {
     "slide_type": "skip"
    }
   },
   "outputs": [
    {
     "data": {
      "text/html": [
       "\n",
       "<iframe width=\"560\" height=\"315\" src=\"https://www.youtube.com/embed/xli_FI7CuzA\" title=\"YouTube video player\" frameborder=\"0\" allow=\"accelerometer; autoplay; clipboard-write; encrypted-media; gyroscope; picture-in-picture\" allowfullscreen></iframe>\n"
      ],
      "text/plain": [
       "<IPython.core.display.HTML object>"
      ]
     },
     "execution_count": 27,
     "metadata": {},
     "output_type": "execute_result"
    }
   ],
   "source": [
    "from IPython.display import HTML\n",
    "\n",
    "HTML(\"\"\"\n",
    "<iframe width=\"560\" height=\"315\" src=\"https://www.youtube.com/embed/xli_FI7CuzA\" title=\"YouTube video player\" frameborder=\"0\" allow=\"accelerometer; autoplay; clipboard-write; encrypted-media; gyroscope; picture-in-picture\" allowfullscreen></iframe>\n",
    "\"\"\")"
   ]
  },
  {
   "cell_type": "markdown",
   "metadata": {
    "slideshow": {
     "slide_type": "skip"
    }
   },
   "source": [
    "- Zum generieren von zufälligen Integer-Zahlen wollen wir das Paket `random` verwenden\n",
    "- Mit der Methode `random.randint(<von>, <bis>)` können wir zufälliger Zahlen im Intervall von - bis erstellen\n",
    "- Bei der Initialisierung der Liste mit `i for i in range(<Zahl>)` kann auch das erste `i` ersetzt werden mit einer Methode, die Zahlen generiert"
   ]
  },
  {
   "cell_type": "code",
   "execution_count": 28,
   "metadata": {
    "slideshow": {
     "slide_type": "skip"
    }
   },
   "outputs": [
    {
     "name": "stdout",
     "output_type": "stream",
     "text": [
      "[3, 10, 9, 3, 2, 4, 2, 10, 1, 7, 2, 3, 9, 1, 7, 10, 1, 4, 6, 1, 8, 2, 9, 5, 2, 8, 1, 5, 9, 1, 2, 4, 7, 4, 10, 3, 9, 2, 2, 2, 1, 8, 8, 2, 10, 10, 10, 3, 2, 10, 2, 3, 7, 7, 7, 6, 7, 9, 8, 1, 4, 7, 4, 7, 1, 8, 9, 2, 4, 5, 3, 2, 5, 2, 1, 3, 5, 10, 3, 4, 1, 10, 10, 1, 1, 10, 8, 5, 9, 1, 8, 1, 2, 9, 8, 3, 9, 3, 4, 8]\n"
     ]
    }
   ],
   "source": [
    "import random\n",
    "\n",
    "feld = [random.randint(1, 10) for i in range(100)]\n",
    "\n",
    "print(feld)"
   ]
  },
  {
   "cell_type": "code",
   "execution_count": 29,
   "metadata": {
    "slideshow": {
     "slide_type": "skip"
    }
   },
   "outputs": [
    {
     "name": "stdout",
     "output_type": "stream",
     "text": [
      "[1, 1, 1, 1, 1, 1, 1, 1, 1, 1, 1, 1, 1, 1, 1, 2, 2, 2, 2, 2, 2, 2, 2, 2, 2, 2, 2, 2, 2, 2, 2, 3, 3, 3, 3, 3, 3, 3, 3, 3, 3, 3, 4, 4, 4, 4, 4, 4, 4, 4, 4, 5, 5, 5, 5, 5, 5, 6, 6, 7, 7, 7, 7, 7, 7, 7, 7, 7, 8, 8, 8, 8, 8, 8, 8, 8, 8, 8, 9, 9, 9, 9, 9, 9, 9, 9, 9, 9, 10, 10, 10, 10, 10, 10, 10, 10, 10, 10, 10, 10]\n"
     ]
    }
   ],
   "source": [
    "not_done = True\n",
    "\n",
    "while not_done:\n",
    "    not_done = False\n",
    "    \n",
    "    for i in range(len(feld) - 1):\n",
    "        if feld[i] > feld[i + 1]:\n",
    "            temp = feld[i]\n",
    "            feld[i] = feld[i + 1]\n",
    "            feld[i + 1] = temp\n",
    "            \n",
    "            not_done = True\n",
    "            \n",
    "print(feld)"
   ]
  },
  {
   "cell_type": "markdown",
   "metadata": {
    "slideshow": {
     "slide_type": "skip"
    }
   },
   "source": [
    "## Aufgabe 4:\n",
    "\n",
    "Belegen Sie eine Liste (mindestens 100 Elemente) mit Zufallszahlen zwischen 1 und 10!\n",
    "Ermitteln Sie die Häufigkeit der einzelnen Zahlen!"
   ]
  },
  {
   "cell_type": "code",
   "execution_count": 30,
   "metadata": {
    "slideshow": {
     "slide_type": "skip"
    }
   },
   "outputs": [
    {
     "name": "stdout",
     "output_type": "stream",
     "text": [
      "[3, 10, 8, 7, 4, 2, 7, 5, 9, 1, 4, 10, 9, 8, 1, 1, 3, 4, 6, 6, 4, 8, 1, 8, 6, 2, 7, 7, 3, 4, 6, 4, 2, 10, 5, 6, 3, 3, 10, 9, 7, 8, 10, 5, 1, 7, 9, 10, 9, 7, 8, 4, 5, 9, 1, 5, 9, 2, 1, 2, 6, 9, 6, 5, 7, 8, 10, 7, 2, 8, 3, 4, 2, 7, 7, 7, 4, 4, 9, 9, 2, 4, 10, 8, 6, 3, 1, 6, 9, 4, 8, 1, 9, 4, 8, 1, 1, 9, 8, 4]\n",
      "\n",
      "11 x 1\n",
      "8 x 2\n",
      "7 x 3\n",
      "14 x 4\n",
      "6 x 5\n",
      "9 x 6\n",
      "12 x 7\n",
      "12 x 8\n",
      "13 x 9\n",
      "8 x 10\n"
     ]
    }
   ],
   "source": [
    "import random\n",
    "\n",
    "list2 = []\n",
    "\n",
    "for i in range(100):\n",
    "    random1 = random.randint(1, 10)\n",
    "    list2.append(random1)\n",
    "\n",
    "print(list2)\n",
    "print()\n",
    "\n",
    "for j in range(1, 11):\n",
    "    counter = 0\n",
    "    for i in range(len(list2)):\n",
    "        if list2[i] == j:\n",
    "            counter = counter + 1\n",
    "    print(str(counter) + ' x ' + str(j))"
   ]
  }
 ],
 "metadata": {
  "kernelspec": {
   "display_name": "Python 3 (ipykernel)",
   "language": "python",
   "name": "python3"
  },
  "language_info": {
   "codemirror_mode": {
    "name": "ipython",
    "version": 3
   },
   "file_extension": ".py",
   "mimetype": "text/x-python",
   "name": "python",
   "nbconvert_exporter": "python",
   "pygments_lexer": "ipython3",
   "version": "3.9.6"
  }
 },
 "nbformat": 4,
 "nbformat_minor": 4
}
