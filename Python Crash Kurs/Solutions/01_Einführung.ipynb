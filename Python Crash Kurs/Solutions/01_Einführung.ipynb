{
 "cells": [
  {
   "cell_type": "markdown",
   "metadata": {
    "slideshow": {
     "slide_type": "slide"
    }
   },
   "source": [
    "# 1. Einführung"
   ]
  },
  {
   "cell_type": "markdown",
   "metadata": {
    "slideshow": {
     "slide_type": "slide"
    }
   },
   "source": [
    "## Inhalt\n",
    "\n",
    "- Installation\n",
    "- Unterschiede zwischen Python 2.7 und Python 3\n",
    "- Installieren von Paketen\n",
    "    - PIP\n",
    "    - Anaconda\n",
    "- virtuelle Umgebungen\n",
    "- PEP 8\n",
    "- Jupyter Notebooks\n",
    "    - Markdwon\n",
    "- Datentypen in Python\n",
    "    - Zahlen\n",
    "    - Strings\n",
    "- Variablen\n",
    "- Listen"
   ]
  },
  {
   "cell_type": "markdown",
   "metadata": {
    "slideshow": {
     "slide_type": "skip"
    }
   },
   "source": [
    "## Installation\n",
    "\n",
    "- Linux: direkte Installation von Python\n",
    "- Windows/Mac: Installation mittels Anaconda"
   ]
  },
  {
   "cell_type": "markdown",
   "metadata": {
    "slideshow": {
     "slide_type": "skip"
    }
   },
   "source": [
    "### Linux\n",
    "\n",
    "- `sudo apt install python3 python3-pip`\n",
    "- Packagemanager an Distro anpassen ;)"
   ]
  },
  {
   "cell_type": "markdown",
   "metadata": {
    "slideshow": {
     "slide_type": "skip"
    }
   },
   "source": [
    "### Windows/Mac - Anaconda\n",
    "\n",
    "- https://www.anaconda.com/\n",
    "- Download 3.x für das entsprechende Betriebssystem"
   ]
  },
  {
   "cell_type": "markdown",
   "metadata": {
    "slideshow": {
     "slide_type": "skip"
    }
   },
   "source": [
    "### Windows/Mac Standard - plain Python\n",
    "\n",
    "- https://www.python.org/\n",
    "- Microsoft Store: python3 in PowerShell/Terminal ausführen\n",
    "    - die Installation aus dem Windows Store wird vorgeschlagen"
   ]
  },
  {
   "cell_type": "markdown",
   "metadata": {
    "slideshow": {
     "slide_type": "slide"
    }
   },
   "source": [
    "## Unterschiede zwischen Python 2.7 und Python 3\n",
    "\n",
    "- Python 3.0 Release: 03.12.2008\n",
    "- Python 2.7 End of Life: 01.01.2020\n",
    "- Python 2.7 ist trotzdem für einige Pakete/SW Voraussetzung"
   ]
  },
  {
   "cell_type": "markdown",
   "metadata": {
    "slideshow": {
     "slide_type": "subslide"
    }
   },
   "source": [
    "| Python 2.7 | Python 3.x |\n",
    "|---|---|\n",
    "| print 'Hello, World!' | print('Hello, World!') |\n",
    "| 3 / 2 = 1 | 3 / 2 = 1.5 |\n",
    "| xrange() | range() |\n",
    "| raise IOError, \"file error\" | raise IOError(\"file error\") |\n",
    "| except NameError, err: | except NameError as err: |\n",
    "| For-Loop Liste Variabel global | For-Loop Liste Variabel lokal |\n",
    "| round(15.5) = 16.0 | round(15.5) = 16 |\n",
    "| round(16.5) = 17.0 | round(16.5) = 16 (Round half to even) |"
   ]
  },
  {
   "cell_type": "markdown",
   "metadata": {
    "slideshow": {
     "slide_type": "skip"
    }
   },
   "source": [
    "## Installieren von Paketen\n",
    "\n",
    "- In fast jeder Programmiersprache verwenden wir Pakete um uns die Arbeit zu vereinfachen\n",
    "- Wir können davon ausgehen, dass die Pakete korrekt arbeiten, sollten uns aber nicht darauf verlassen!\n",
    "- Pakete sparen uns viel Arbeit!\n",
    "- Warum sollten wir das Rad neu erfinden?\n",
    "- Installation Global\n",
    "    - wenn nötig virtuelle Umgebungen verwenden (virtualenv)\n",
    "    - bzw. conda environment"
   ]
  },
  {
   "cell_type": "markdown",
   "metadata": {
    "slideshow": {
     "slide_type": "skip"
    }
   },
   "source": [
    "## Virtuelle Umgebungen\n",
    "\n",
    "### Anaconda\n",
    "\n",
    "- Umgebung erstellen: `conda create --name myenv`\n",
    "- Umgebung aktivieren: `conda activate myenv`"
   ]
  },
  {
   "cell_type": "markdown",
   "metadata": {
    "slideshow": {
     "slide_type": "skip"
    }
   },
   "source": [
    "### plain Python\n",
    "\n",
    "- Umgebung wird im aktuellen Ordner erstellt\n",
    "    - ich empfehle z.B. C:/Users/Name/.envs\n",
    "- Umgebung erstellen: `python3 -m venv myenv` (je nach Installation evtl. auch nur `python`)\n",
    "- Umgebung aktivieren unter CMD: `C:/Users/Name/.envs/myenv/Scripts/activate.bat`\n",
    "- Umgebung aktivieren unter PowerShell: `C:/Users/Name/.envs/myenv/Scripts/Activate.ps1`\n",
    "- Umgebung aktivieren unter Linux/MacOS: `C:/Users/Name/.envs/myenv/bin/activate`\n",
    "- Für den Befehl `python` existiert nun auch ein Alias `py`\n",
    "- Man sollte den Alias verwenden, um eventuelle Verwechslungen auszuschließen"
   ]
  },
  {
   "cell_type": "markdown",
   "metadata": {
    "slideshow": {
     "slide_type": "skip"
    }
   },
   "source": [
    "### PIP\n",
    "\n",
    "- pip installs packages\n",
    "- https://pypi.org/\n",
    "- Als erstes immer `python -m pip install -U pip` um pip zu aktualisieren\n",
    "- Z.B.: pip install numpy\n",
    "    - ABER: in manchen Distros verweist pip auf python2.7-pip\n",
    "    - daher bevorzugt pip3 install ... verwenden\n",
    "- pip3 install numpy -U\n",
    "    - Installiert oder führt ein Upgrade durch\n",
    "- pip3 install numpy==1.16.4\n",
    "    - installiert eine bestimmte Version\n",
    "- Für manche Pakete sind sudo-Rechte notwendig, da C/C++-Bibliotheken kompiliert und installiert werden müssen\n",
    "    - sudo -H pip3 install numpy\n",
    "    \n",
    "- Aktuell installierte Pakete der Umgebung in einer Datei auflisten `pip freeze > requirements.txt`\n",
    "- Pakte einer bestimmten Version aus einer Datei installieren `pip install -r requirements.txt`\n",
    "- In einem Jupyter Notebook kann mit `!pip install <Paket>` ein Paket installiert werden\n",
    "    - in unserer Umgebung werden die installierte Pakete nicht persistiert, nach dem Ende der Session sind sie wieder weg"
   ]
  },
  {
   "cell_type": "markdown",
   "metadata": {
    "slideshow": {
     "slide_type": "skip"
    }
   },
   "source": [
    "### Anaconda\n",
    "\n",
    "- Immer die \"Anaconda Prompt\" verwenden!\n",
    "- conda install numpy\n",
    "- conda install numpy=1.16.4\n",
    "- Verwendung des (langsamen) \"Anaconda Navigator\" möglich"
   ]
  },
  {
   "cell_type": "markdown",
   "metadata": {
    "slideshow": {
     "slide_type": "slide"
    }
   },
   "source": [
    "## PEP 8\n",
    "\n",
    "> \"Always code as if the guy who ends up maintaining your code will be a violent psychopath who knows where you live\"\n",
    ">\n",
    "> --<cite>John Woods<cite>\n",
    "\n",
    "- https://www.python.org/dev/peps/pep-0008/\n",
    "- https://realpython.com/python-pep8\n",
    "- Best Practices\n",
    "- Ansätze für \"Clean Code\"\n",
    "- Soll die Lesbarkeit von Code verbessern"
   ]
  },
  {
   "cell_type": "markdown",
   "metadata": {
    "slideshow": {
     "slide_type": "skip"
    }
   },
   "source": [
    "## PEP 20\n",
    "\n",
    "- https://www.python.org/dev/peps/pep-0020/"
   ]
  },
  {
   "cell_type": "code",
   "execution_count": 1,
   "metadata": {
    "slideshow": {
     "slide_type": "skip"
    }
   },
   "outputs": [
    {
     "name": "stdout",
     "output_type": "stream",
     "text": [
      "The Zen of Python, by Tim Peters\n",
      "\n",
      "Beautiful is better than ugly.\n",
      "Explicit is better than implicit.\n",
      "Simple is better than complex.\n",
      "Complex is better than complicated.\n",
      "Flat is better than nested.\n",
      "Sparse is better than dense.\n",
      "Readability counts.\n",
      "Special cases aren't special enough to break the rules.\n",
      "Although practicality beats purity.\n",
      "Errors should never pass silently.\n",
      "Unless explicitly silenced.\n",
      "In the face of ambiguity, refuse the temptation to guess.\n",
      "There should be one-- and preferably only one --obvious way to do it.\n",
      "Although that way may not be obvious at first unless you're Dutch.\n",
      "Now is better than never.\n",
      "Although never is often better than *right* now.\n",
      "If the implementation is hard to explain, it's a bad idea.\n",
      "If the implementation is easy to explain, it may be a good idea.\n",
      "Namespaces are one honking great idea -- let's do more of those!\n"
     ]
    }
   ],
   "source": [
    "import this"
   ]
  },
  {
   "cell_type": "markdown",
   "metadata": {
    "slideshow": {
     "slide_type": "slide"
    }
   },
   "source": [
    "## Jupyter Notebooks und Jupyter Lab\n",
    "\n",
    "- Bei Anaconda ist jupyter bereits vorinstalliert\n",
    "- Ansonsten installieren wir jupyter lab mit `pip install jupyterlab`\n",
    "- In einem beliebigen Ordner können wir mit `jupyter lab` den lokalen Jupyter Server starten\n",
    "    - der Ordner ist dann unser Root-Ordner\n",
    "- Jupyter Notebooks haben die Endung `.ipynb` und können in die Umgebung kopiert werden"
   ]
  },
  {
   "cell_type": "markdown",
   "metadata": {
    "slideshow": {
     "slide_type": "slide"
    }
   },
   "source": [
    "## Jupyter Notebooks\n",
    "\n",
    "- Interaktive Python Umgebung\n",
    "- Vereint Beschreibungen in Form von Text mit ausführbaren Code im Browser\n",
    "- Einbindung von Grafiken möglich\n",
    "- Erstellung von Slides aus Notebooks möglich ;)\n",
    "- Keine Python Installation notwendig, wenn der Server auf einer anderen Maschine läuft\n",
    "- Quasi-Standard für Tutorials von Paketen\n",
    "- Verwendung verschiedener Kernels möglich\n",
    "    - Verschiedene Versionen von Python-Paketen\n",
    "    - Verschiedene Programmiersprachen"
   ]
  },
  {
   "cell_type": "markdown",
   "metadata": {
    "slideshow": {
     "slide_type": "subslide"
    }
   },
   "source": [
    "- Ausführen der Zellen über Playbutton, `Shift-Enter` (Sprung in die nächste Zelle) oder `Strg-Enter`\n",
    "    - __Wichtig:__ Reihenfolge beachten!\n",
    "- Auto-Vervollständigung mit `Tab`, Dokumentation mit `Shift-Tab`\n",
    "- Der \"Vorspulen\"-Knopf kann verwendet werden um den Kernel neuzustarten (leeren des Speichers) und alle Zellen auszuführen"
   ]
  },
  {
   "cell_type": "markdown",
   "metadata": {
    "slideshow": {
     "slide_type": "slide"
    }
   },
   "source": [
    "### Markdown\n",
    "\n",
    "- Art des Code-Blocks auf Markdown stellen (vorher Code)\n",
    "- Wichtig: immer eine leere Zeile nach einer Überschrift, Tabelle oder Liste lassen!"
   ]
  },
  {
   "cell_type": "markdown",
   "metadata": {
    "slideshow": {
     "slide_type": "subslide"
    }
   },
   "source": [
    "#### Überschriften\n",
    "\n",
    "- Je nach Überschriften Ebene wird die entsprechende Anzahl an `#` an den Anfang einer Zeile gesetzt\n",
    "    - `#`\n",
    "    - `##`\n",
    "    - `###`\n",
    "    - usw."
   ]
  },
  {
   "cell_type": "markdown",
   "metadata": {
    "slideshow": {
     "slide_type": "subslide"
    }
   },
   "source": [
    "#### Text-Art\n",
    "\n",
    "- *kursiv*: `*kursiv*`\n",
    "- **fett**: `**fett**`\n",
    "- ~~durchgestrichen~~: `~~durchgestrichen~~`"
   ]
  },
  {
   "cell_type": "markdown",
   "metadata": {
    "slideshow": {
     "slide_type": "subslide"
    }
   },
   "source": [
    "##### Listen\n",
    "\n",
    "- ungeordnete: `- ungeordnete`\n",
    "- Liste: `- Liste:`\n",
    "\n",
    "1. geordnete: `1. geordnete: `\n",
    "1. Liste: `1. Liste: `"
   ]
  },
  {
   "cell_type": "markdown",
   "metadata": {
    "slideshow": {
     "slide_type": "subslide"
    }
   },
   "source": [
    "#### Links\n",
    "\n",
    "- [Google](https://google.com): `[Google](https://google.com)`\n",
    "- https://google.com: `https://google.com`"
   ]
  },
  {
   "cell_type": "markdown",
   "metadata": {
    "slideshow": {
     "slide_type": "subslide"
    }
   },
   "source": [
    "#### Bilder\n",
    "\n",
    "- ![alt text](https://github.com/adam-p/markdown-here/raw/master/src/common/images/icon48.png \"Logo Title Text 1\")\n",
    "- `![alt text](https://github.com/adam-p/markdown-here/raw/master/src/common/images/icon48.png \"Logo Title Text 1\")`"
   ]
  },
  {
   "cell_type": "markdown",
   "metadata": {
    "slideshow": {
     "slide_type": "subslide"
    }
   },
   "source": [
    "#### nicht-ausführbarer Code\n",
    "\n",
    "- `xyz = 30` \\`xyz = 30\\`\n",
    "\n",
    "```python\n",
    "s = \"Python syntax highlighting\"\n",
    "print s\n",
    "```\n",
    "\n",
    "    ```python\n",
    "    s = \"Python syntax highlighting\"\n",
    "    print s\n",
    "    ```"
   ]
  },
  {
   "cell_type": "markdown",
   "metadata": {
    "slideshow": {
     "slide_type": "subslide"
    }
   },
   "source": [
    "#### Tabellen\n",
    "\n",
    "Markdown | Less | Pretty\n",
    "--- | --- | ---\n",
    "*Still* | `renders` | **nicely**\n",
    "1 | 2 | 3\n",
    "\n",
    "```\n",
    "Markdown | Less | Pretty\n",
    "--- | --- | ---\n",
    "*Still* | `renders` | **nicely**\n",
    "1 | 2 | 3\n",
    "```"
   ]
  },
  {
   "cell_type": "markdown",
   "metadata": {
    "slideshow": {
     "slide_type": "subslide"
    }
   },
   "source": [
    "#### Quote\n",
    "\n",
    "> Quote\n",
    "\n",
    "Fließtext\n",
    "\n",
    "```\n",
    "> Quote\n",
    "\n",
    "Fließtext\n",
    "```"
   ]
  },
  {
   "cell_type": "markdown",
   "metadata": {
    "slideshow": {
     "slide_type": "slide"
    }
   },
   "source": [
    "## Python vs. andere Programmiersprachen\n",
    "\n",
    "- Wir verwenden kein Semikolon\n",
    "    - Stattdessen wird ein Befehl immer am Ende einer Zeile abgeschlossen (mit einer Ausnahme)\n",
    "- Wir verwenden keine geschweiften Klammern\n",
    "    - einen Block starten wir mit `:` in der vorhergehenden Zeile\n",
    "    - der Block ist um 1 `Tab` eingerückt\n",
    "    - der Block ist zu Ende, wenn die nächste Zeile wieder eine 1 `Tab` eher startet"
   ]
  },
  {
   "cell_type": "code",
   "execution_count": 2,
   "metadata": {
    "slideshow": {
     "slide_type": "fragment"
    }
   },
   "outputs": [],
   "source": [
    "def maximum(number_1, number_2):\n",
    "    if number_1 > number_2:\n",
    "        return number_1\n",
    "    else:\n",
    "        return number_2"
   ]
  },
  {
   "cell_type": "markdown",
   "metadata": {
    "slideshow": {
     "slide_type": "slide"
    }
   },
   "source": [
    "## Datentypen in Python"
   ]
  },
  {
   "cell_type": "markdown",
   "metadata": {
    "slideshow": {
     "slide_type": "subslide"
    }
   },
   "source": [
    "### Zahlen"
   ]
  },
  {
   "cell_type": "markdown",
   "metadata": {
    "pycharm": {
     "name": "#%% md\n"
    }
   },
   "source": [
    "- In Python können wir alle Operationen auf Zahlen anwenden, die wir aus der Mathematik kennen\n",
    "- Lediglich das Runden funktioniert anders als gewohnt\n",
    "    - Hier wird das Konzept \"Round half to even\" verwendet\n",
    "- Im Folgenden verwenden wir `print(<String>, <Zahl>)`, dabei wird automatisch die Zahl in einen String verwandelt und ein Leerzeichen zwischen den beiden Teilen eingefügt\n",
    "- Wir könnten statt dem Komma auch ein `+` verwenden, dieses fügt allerdings kein Leerzeichen ein und erwartet, dass beide Seiten vom gleichen Typ sind\n",
    "- `x ** y` entspricht $x^y$\n",
    "- `//` rundet das Ergebnis der Division ab\n",
    "- `%` ist das Symbol für den Modulo-Operanden"
   ]
  },
  {
   "cell_type": "code",
   "execution_count": 3,
   "metadata": {
    "pycharm": {
     "is_executing": false
    },
    "slideshow": {
     "slide_type": "subslide"
    }
   },
   "outputs": [
    {
     "name": "stdout",
     "output_type": "stream",
     "text": [
      "5 + 4 = 9\n",
      "5 - 4 = 1\n",
      "5 * 4 = 20\n",
      "2 ** 3 = 8\n",
      "5 / 4 = 1.25\n",
      "5 // 4 = 1\n",
      "8 % 3 = 2\n"
     ]
    }
   ],
   "source": [
    "print(\"5 + 4 =\", 5 + 4)\n",
    "print(\"5 - 4 =\", 5 - 4)\n",
    "print(\"5 * 4 =\", 5 * 4)\n",
    "print(\"2 ** 3 =\", 2 ** 3)\n",
    "print(\"5 / 4 =\", 5 / 4)\n",
    "print(\"5 // 4 =\", 5 // 4)\n",
    "print(\"8 % 3 =\", 8 % 3)"
   ]
  },
  {
   "cell_type": "markdown",
   "metadata": {
    "slideshow": {
     "slide_type": "subslide"
    }
   },
   "source": [
    "- Im Folgenden wird die Funktionsweise von \"Round half to even\" mit der `round()`-Funktion demonstriert\n",
    "    - `.5` wird immer zu einer runden Zahl gerundet"
   ]
  },
  {
   "cell_type": "code",
   "execution_count": 4,
   "metadata": {},
   "outputs": [
    {
     "name": "stdout",
     "output_type": "stream",
     "text": [
      "6 / 4 = 1.5\n",
      "10 / 4 = 2.5\n",
      "11 / 4 = 2.75\n",
      "13 / 4 = 3.25\n",
      "6 // 4 = 1\n",
      "10 // 4 = 2\n",
      "11 // 4 = 2\n",
      "round(6 / 4) = 2\n",
      "round(10 / 4) = 2\n"
     ]
    }
   ],
   "source": [
    "print(\"6 / 4 =\", 6 / 4)\n",
    "print(\"10 / 4 =\", 10 / 4)\n",
    "print(\"11 / 4 =\", 11 / 4)\n",
    "print(\"13 / 4 =\", 13 / 4)\n",
    "\n",
    "print(\"6 // 4 =\", 6 // 4)\n",
    "print(\"10 // 4 =\", 10 // 4)\n",
    "print(\"11 // 4 =\", 11 // 4)\n",
    "\n",
    "print(\"round(6 / 4) =\", round(6 / 4))\n",
    "print(\"round(10 / 4) =\", round(10 / 4))"
   ]
  },
  {
   "cell_type": "markdown",
   "metadata": {
    "slideshow": {
     "slide_type": "slide"
    }
   },
   "source": [
    "### Strings"
   ]
  },
  {
   "cell_type": "markdown",
   "metadata": {
    "pycharm": {
     "name": "#%% md\n"
    }
   },
   "source": [
    "- Strings werden in Python entweder durch \" oder ' definiert (am Ende und Anfang des Strings)\n",
    "- Ein String mit 3 x \" am Ende und Anfang kann über mehrere Zeilen gehen\n",
    "- In einem `print`-Statement dürfen Datentypen nicht vermischt werden (außer bei der Verwendung von Kommata)\n",
    "- Die Funktion `str` wandelt einen Datentypen in einen String um\n",
    "- Die Funktion `int` wandelt einen Datentypen in einen Integer um\n",
    "- Die Funktion `float` wandelt einen Datentypen in einen Float um"
   ]
  },
  {
   "cell_type": "code",
   "execution_count": 5,
   "metadata": {
    "slideshow": {
     "slide_type": "subslide"
    }
   },
   "outputs": [
    {
     "name": "stdout",
     "output_type": "stream",
     "text": [
      "Hallo Welt!\n",
      "Hallo Welt!\n"
     ]
    }
   ],
   "source": [
    "print(\"Hallo Welt!\")\n",
    "print('Hallo Welt!')"
   ]
  },
  {
   "cell_type": "code",
   "execution_count": 6,
   "metadata": {
    "slideshow": {
     "slide_type": "subslide"
    }
   },
   "outputs": [
    {
     "ename": "SyntaxError",
     "evalue": "EOL while scanning string literal (<ipython-input-6-48c9e43e41e2>, line 1)",
     "output_type": "error",
     "traceback": [
      "\u001b[0;36m  File \u001b[0;32m\"<ipython-input-6-48c9e43e41e2>\"\u001b[0;36m, line \u001b[0;32m1\u001b[0m\n\u001b[0;31m    print(\"Hallo,\u001b[0m\n\u001b[0m                 ^\u001b[0m\n\u001b[0;31mSyntaxError\u001b[0m\u001b[0;31m:\u001b[0m EOL while scanning string literal\n"
     ]
    }
   ],
   "source": [
    "print(\"Hallo,\n",
    "      Welt\")"
   ]
  },
  {
   "cell_type": "code",
   "execution_count": 7,
   "metadata": {
    "slideshow": {
     "slide_type": "subslide"
    }
   },
   "outputs": [
    {
     "name": "stdout",
     "output_type": "stream",
     "text": [
      "Hallo,\n",
      "         Welt\n"
     ]
    }
   ],
   "source": [
    "print(\"\"\"Hallo,\n",
    "         Welt\"\"\")"
   ]
  },
  {
   "cell_type": "code",
   "execution_count": 8,
   "metadata": {
    "slideshow": {
     "slide_type": "subslide"
    }
   },
   "outputs": [
    {
     "name": "stdout",
     "output_type": "stream",
     "text": [
      "7\n"
     ]
    }
   ],
   "source": [
    "print(7)"
   ]
  },
  {
   "cell_type": "code",
   "execution_count": 9,
   "metadata": {
    "slideshow": {
     "slide_type": "subslide"
    }
   },
   "outputs": [
    {
     "ename": "TypeError",
     "evalue": "can only concatenate str (not \"int\") to str",
     "output_type": "error",
     "traceback": [
      "\u001b[0;31m---------------------------------------------------------------------------\u001b[0m",
      "\u001b[0;31mTypeError\u001b[0m                                 Traceback (most recent call last)",
      "\u001b[0;32m<ipython-input-9-ea2924119dfa>\u001b[0m in \u001b[0;36m<module>\u001b[0;34m\u001b[0m\n\u001b[0;32m----> 1\u001b[0;31m \u001b[0mprint\u001b[0m\u001b[0;34m(\u001b[0m\u001b[0;34m\"00\"\u001b[0m \u001b[0;34m+\u001b[0m \u001b[0;36m7\u001b[0m\u001b[0;34m)\u001b[0m\u001b[0;34m\u001b[0m\u001b[0;34m\u001b[0m\u001b[0m\n\u001b[0m",
      "\u001b[0;31mTypeError\u001b[0m: can only concatenate str (not \"int\") to str"
     ]
    }
   ],
   "source": [
    "print(\"00\" + 7)"
   ]
  },
  {
   "cell_type": "code",
   "execution_count": 10,
   "metadata": {
    "slideshow": {
     "slide_type": "subslide"
    }
   },
   "outputs": [
    {
     "name": "stdout",
     "output_type": "stream",
     "text": [
      "007\n"
     ]
    }
   ],
   "source": [
    "print(\"00\" + str(7))"
   ]
  },
  {
   "cell_type": "code",
   "execution_count": 11,
   "metadata": {
    "slideshow": {
     "slide_type": "subslide"
    }
   },
   "outputs": [
    {
     "name": "stdout",
     "output_type": "stream",
     "text": [
      "8\n"
     ]
    }
   ],
   "source": [
    "print(int(\"1\") + 7)"
   ]
  },
  {
   "cell_type": "markdown",
   "metadata": {
    "slideshow": {
     "slide_type": "slide"
    }
   },
   "source": [
    "## Variablen\n",
    "\n",
    "- Use a lowercase single letter, word, or words. Separate words with underscores to improve readability. -- PEP 8\n",
    "- Variablen werden ähnlich wie in anderen Programmiersprachen zugewiesen\n",
    "    - Der Zuweisungsoperator ist das einfache `=`\n",
    "    - Im Gegensatz zu den meisten Programmiersprachen wird in Python nicht typisiert\n",
    "        - somit kann theoretisch auch der Datentyp einer Variablen geändert werden, dies gilt jedoch als \"Code Smell\""
   ]
  },
  {
   "cell_type": "code",
   "execution_count": 12,
   "metadata": {
    "slideshow": {
     "slide_type": "subslide"
    }
   },
   "outputs": [
    {
     "name": "stdout",
     "output_type": "stream",
     "text": [
      "7\n",
      "Hello World\n"
     ]
    }
   ],
   "source": [
    "a = 7\n",
    "print(a)\n",
    "a = \"Hello World\"\n",
    "print(a)"
   ]
  },
  {
   "cell_type": "markdown",
   "metadata": {
    "slideshow": {
     "slide_type": "subslide"
    }
   },
   "source": [
    "- Wann immer es möglich ist sollten sprechende Namen für die Variablen verwendet werden"
   ]
  },
  {
   "cell_type": "code",
   "execution_count": 13,
   "metadata": {},
   "outputs": [
    {
     "name": "stdout",
     "output_type": "stream",
     "text": [
      "56\n"
     ]
    }
   ],
   "source": [
    "laenge = 7\n",
    "breite = 8\n",
    "\n",
    "flaeche = laenge * breite\n",
    "print(flaeche)"
   ]
  },
  {
   "cell_type": "markdown",
   "metadata": {
    "slideshow": {
     "slide_type": "slide"
    }
   },
   "source": [
    "## Listen\n",
    "\n",
    "- Standardmäßig existieren in Pyhton keine Arrays, daher wirkt die Liste in Python wie eine Mischung aus Array und Liste\n",
    "- Erstellt wird eine Liste mit `[` am Anfang und `]` am Ende\n",
    "- Auch eine Liste ist nicht typisiert und kann theoretisch verschiedene Datentypen aufnehmen\n",
    "    - praktisch sollte dies aber vermieden werden, um Fehler im Code zu vermeiden\n",
    "- Eine leere Liste kann mit `list()` erstellt werden\n",
    "- Mit der Methode `.append(<Element>)` können wir Elemente der Liste hinzufügen\n",
    "- Die Funktion `len()` kann auf eine Liste angewendet werden, um die Anzahl der Elemente zu erhalten"
   ]
  },
  {
   "cell_type": "markdown",
   "metadata": {
    "slideshow": {
     "slide_type": "subslide"
    }
   },
   "source": [
    "- Mithilfe von Indizes können wir direkt auf einzelne Elemente zugreifen\n",
    "    - `liste[0]` gibt uns das erste Element aus\n",
    "    - `liste[-2]` gibt uns das vorletzte Element aus\n",
    "    - `liste[1:5]` gibt uns die Elemente beginnend bei dem Index 1 bis einschließlich Index 4 aus (also ohne dem 5ten Index)\n",
    "    - `liste[1:]` gibt uns alle Elemente ab dem Index 1 aus\n",
    "    - `liste[:5]` gibt uns alle Elemente bis zum Index 4 aus (auch hier ohne Index 5)\n",
    "    - `liste[:]` gibt uns alle Elemente aus"
   ]
  },
  {
   "cell_type": "code",
   "execution_count": 14,
   "metadata": {
    "slideshow": {
     "slide_type": "subslide"
    }
   },
   "outputs": [
    {
     "name": "stdout",
     "output_type": "stream",
     "text": [
      "['Roy']\n"
     ]
    }
   ],
   "source": [
    "students = list()\n",
    "students.append('Roy')\n",
    "print(students)"
   ]
  },
  {
   "cell_type": "code",
   "execution_count": 15,
   "metadata": {
    "slideshow": {
     "slide_type": "subslide"
    }
   },
   "outputs": [
    {
     "name": "stdout",
     "output_type": "stream",
     "text": [
      "['Roy', 'Ronny', 'Ronja', 'Kevin']\n"
     ]
    }
   ],
   "source": [
    "students = [\"Roy\", \"Ronny\", \"Ronja\", \"Kevin\"]\n",
    "print(students)"
   ]
  },
  {
   "cell_type": "code",
   "execution_count": 16,
   "metadata": {
    "slideshow": {
     "slide_type": "subslide"
    }
   },
   "outputs": [
    {
     "name": "stdout",
     "output_type": "stream",
     "text": [
      "['Roy', 'Ronny', 'Ronja', 'Kevin', 'Max']\n"
     ]
    }
   ],
   "source": [
    "students.append(\"Max\")\n",
    "print(students)"
   ]
  },
  {
   "cell_type": "code",
   "execution_count": 17,
   "metadata": {},
   "outputs": [
    {
     "name": "stdout",
     "output_type": "stream",
     "text": [
      "5\n"
     ]
    }
   ],
   "source": [
    "print(len(students))"
   ]
  },
  {
   "cell_type": "code",
   "execution_count": 18,
   "metadata": {
    "slideshow": {
     "slide_type": "subslide"
    }
   },
   "outputs": [
    {
     "name": "stdout",
     "output_type": "stream",
     "text": [
      "Roy\n",
      "Eric\n"
     ]
    }
   ],
   "source": [
    "print(students[0])\n",
    "students[0] = \"Eric\"\n",
    "print(students[0])"
   ]
  },
  {
   "cell_type": "code",
   "execution_count": 19,
   "metadata": {
    "slideshow": {
     "slide_type": "subslide"
    }
   },
   "outputs": [
    {
     "name": "stdout",
     "output_type": "stream",
     "text": [
      "Kevin\n",
      "Max\n"
     ]
    }
   ],
   "source": [
    "print(students[3])\n",
    "students.remove(\"Ronja\")\n",
    "print(students[3])"
   ]
  },
  {
   "cell_type": "code",
   "execution_count": 20,
   "metadata": {},
   "outputs": [
    {
     "name": "stdout",
     "output_type": "stream",
     "text": [
      "['Eric', None, 'Kevin', 'Max']\n"
     ]
    }
   ],
   "source": [
    "students[1] = None\n",
    "print(students)"
   ]
  },
  {
   "cell_type": "code",
   "execution_count": 21,
   "metadata": {},
   "outputs": [
    {
     "name": "stdout",
     "output_type": "stream",
     "text": [
      "['Eric', None, 'Kevin', 'Max']\n"
     ]
    }
   ],
   "source": [
    "print(students)"
   ]
  },
  {
   "cell_type": "code",
   "execution_count": 22,
   "metadata": {
    "slideshow": {
     "slide_type": "subslide"
    }
   },
   "outputs": [
    {
     "name": "stdout",
     "output_type": "stream",
     "text": [
      "['Eric', None, 'Kevin', 'Max']\n",
      "Max\n",
      "['Eric', None, 'Kevin']\n"
     ]
    }
   ],
   "source": [
    "print(students)\n",
    "student = students.pop()\n",
    "print(student)\n",
    "print(students)"
   ]
  },
  {
   "cell_type": "code",
   "execution_count": 23,
   "metadata": {
    "slideshow": {
     "slide_type": "subslide"
    }
   },
   "outputs": [
    {
     "name": "stdout",
     "output_type": "stream",
     "text": [
      "[3, 4, 5, 6, 7, 8, 9]\n",
      "[0, 1, 2, 3, 4]\n",
      "[3, 4]\n",
      "8\n",
      "[0, 1, 2, 3, 4, 5, 6, 7, 8, 9]\n"
     ]
    }
   ],
   "source": [
    "numbers = [0, 1, 2, 3, 4, 5, 6, 7, 8, 9]\n",
    "\n",
    "print(numbers[3:])\n",
    "print(numbers[:5])\n",
    "print(numbers[3:5])\n",
    "print(numbers[-2])\n",
    "print(numbers[:])"
   ]
  },
  {
   "cell_type": "markdown",
   "metadata": {
    "slideshow": {
     "slide_type": "skip"
    }
   },
   "source": [
    "## Übungsaufgaben\n",
    "\n",
    "- Eine Aufgabe besteht immer aus mindestens einer Eingabe-Zelle\n",
    "- In dieser Zelle wird bereits Code stehen\n",
    "- Diesen sollten Sie nicht ändern, da Sie sonst möglicherweiße die Aufgabe vereinfachen\n",
    "    - Möchten Sie alternative Lösungen testen oder andere Eingabewerte verwenden können Sie weitere Zellen einfügen\n",
    "    - Achten Sie dabei aber darauf, dass Variablen innerhalb eines Notebooks global sind und dadurch von Ihnen eventuell überschrieben werden\n",
    "    - **Falls es bei der Ausführung zu Problemen kommt, bzw. Sie eine andere Ausgabe erwarten, sollten Sie alle dazugehörigen Zellen neu ausführen**\n",
    "- Falls unter einer Aufgaben-Zelle eine weitere Zelle mit `assert`-Statements ist, dient diese lediglich der Verfizierung Ihres Codes\n",
    "    - An dieser Zelle müssen Sie nichts ändern\n",
    "    - Wenn Sie diese Zelle ausführen und keine Ausgabe kommt ist alles i.O.\n",
    "    - Bei einer Ausgabe sehen Sie was falsch ist"
   ]
  },
  {
   "cell_type": "markdown",
   "metadata": {
    "slideshow": {
     "slide_type": "skip"
    }
   },
   "source": [
    "## Aufgabe 1: \n",
    "\n",
    "- Addieren Sie x und y und geben Sie die Summe aus\n",
    "- Dividieren Sie x durch y und geben Sie das gerundete Ergebnis aus"
   ]
  },
  {
   "cell_type": "code",
   "execution_count": 24,
   "metadata": {
    "slideshow": {
     "slide_type": "skip"
    }
   },
   "outputs": [],
   "source": [
    "x = \"42\"\n",
    "y = 39\n",
    "\n",
    "# Ihr Code ab hier:\n",
    "a_sum = int(x) + y\n",
    "quotient = round(int(x) / y)"
   ]
  },
  {
   "cell_type": "code",
   "execution_count": 25,
   "metadata": {
    "slideshow": {
     "slide_type": "skip"
    }
   },
   "outputs": [],
   "source": [
    "assert a_sum == 81, 'Die Summe sollte 51 sein!'\n",
    "assert quotient == 1, 'Der gerundete Quotient sollte 1 sein!'"
   ]
  },
  {
   "cell_type": "markdown",
   "metadata": {
    "slideshow": {
     "slide_type": "skip"
    }
   },
   "source": [
    "## Aufgabe 2:\n",
    "\n",
    "- Geben Sie den String \"Hello World!\" mit Hilfe der Variablen `s1`, `s2` und `s3` aus! "
   ]
  },
  {
   "cell_type": "code",
   "execution_count": 26,
   "metadata": {
    "slideshow": {
     "slide_type": "skip"
    }
   },
   "outputs": [],
   "source": [
    "s1 = \"Hello\"\n",
    "s2 = \"World\"\n",
    "s3 = \"!\"\n",
    "\n",
    "# Ihr Code ab hier:\n",
    "\n",
    "hello_world_string = s1 + ' ' + s2 + s3"
   ]
  },
  {
   "cell_type": "code",
   "execution_count": 27,
   "metadata": {
    "slideshow": {
     "slide_type": "skip"
    }
   },
   "outputs": [],
   "source": [
    "assert hello_world_string == 'Hello World!', 'Der String hätte \"Hello World!\" sein müssen!'"
   ]
  },
  {
   "cell_type": "markdown",
   "metadata": {
    "slideshow": {
     "slide_type": "skip"
    }
   },
   "source": [
    "## Aufgabe 3: \n",
    "\n",
    "- Geben Sie die Zahlen 0 - 5 der Liste `numbers1` aus\n",
    "- Geben Sie die Zahlen 6 - 9 der Liste `numbers1` aus\n",
    "- Geben Sie die Zahlen mit Index 4 - 9 der Liste `numbers2` aus"
   ]
  },
  {
   "cell_type": "code",
   "execution_count": 28,
   "metadata": {
    "slideshow": {
     "slide_type": "skip"
    }
   },
   "outputs": [],
   "source": [
    "numbers1 = [0, 1, 2, 3, 4, 5, 6, 7, 8, 9]\n",
    "\n",
    "# Ihr Code ab hier:\n",
    "numbers1_0_to_5 = numbers1[:6]\n",
    "numbers1_6_to_9 = numbers1[6:10]"
   ]
  },
  {
   "cell_type": "code",
   "execution_count": 29,
   "metadata": {
    "slideshow": {
     "slide_type": "skip"
    }
   },
   "outputs": [],
   "source": [
    "assert numbers1_0_to_5 == [i for i in range(6)], 'Im ersten Teil wurde die Liste [0, 1, 2, 3, 4, 5] erwartet.'\n",
    "assert numbers1_6_to_9 == [i + 6 for i in range(4)], 'Im zweiten Teil wurde die Liste [6, 7, 8, 9] erwartet.'"
   ]
  },
  {
   "cell_type": "code",
   "execution_count": 30,
   "metadata": {
    "slideshow": {
     "slide_type": "skip"
    }
   },
   "outputs": [],
   "source": [
    "numbers2 = [1, 2, 4, 8, 16, 32, 64, 128, 256, 512, 1024]\n",
    "\n",
    "# Ihr Code ab hier:\n",
    "numbers2_id4_to_id9 = numbers2[4:10]"
   ]
  },
  {
   "cell_type": "code",
   "execution_count": 31,
   "metadata": {
    "slideshow": {
     "slide_type": "skip"
    }
   },
   "outputs": [],
   "source": [
    "assert numbers2_id4_to_id9 == [16, 32, 64, 128, 256, 512], 'Die Liste sollte so aussehen: [16, 32, 64, 128, 256, 512]'"
   ]
  }
 ],
 "metadata": {
  "kernelspec": {
   "display_name": "Python 3 (ipykernel)",
   "language": "python",
   "name": "python3"
  },
  "language_info": {
   "codemirror_mode": {
    "name": "ipython",
    "version": 3
   },
   "file_extension": ".py",
   "mimetype": "text/x-python",
   "name": "python",
   "nbconvert_exporter": "python",
   "pygments_lexer": "ipython3",
   "version": "3.9.6"
  },
  "pycharm": {
   "stem_cell": {
    "cell_type": "raw",
    "metadata": {
     "collapsed": false
    },
    "source": []
   }
  }
 },
 "nbformat": 4,
 "nbformat_minor": 4
}
